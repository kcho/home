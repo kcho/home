{
 "metadata": {
  "name": "Untitled0"
 },
 "nbformat": 3,
 "nbformat_minor": 0,
 "worksheets": [
  {
   "cells": [
    {
     "cell_type": "markdown",
     "metadata": {},
     "source": [
      "#Parallel processing using pp module\n",
      "<br>\n",
      "##eg) calculating image volumes"
     ]
    },
    {
     "cell_type": "code",
     "collapsed": false,
     "input": [
      "import pp\n",
      "import os\n",
      "from glob import glob\n",
      "\n",
      "def fslstats(img):\n",
      "    a=os.system('fslstats {0} -V'.format(img))\n",
      "    print a\n",
      "    \n",
      "imgList=glob('*')"
     ],
     "language": "python",
     "metadata": {},
     "outputs": [],
     "prompt_number": "*"
    },
    {
     "cell_type": "code",
     "collapsed": false,
     "input": [
      "imgList"
     ],
     "language": "python",
     "metadata": {},
     "outputs": [],
     "prompt_number": "*"
    },
    {
     "cell_type": "markdown",
     "metadata": {},
     "source": [
      "<br>\n",
      "##Normal serial processing"
     ]
    },
    {
     "cell_type": "code",
     "collapsed": false,
     "input": [
      "for img in imgList:\n",
      "    fslstats(img)\n"
     ],
     "language": "python",
     "metadata": {},
     "outputs": [],
     "prompt_number": "*"
    },
    {
     "cell_type": "markdown",
     "metadata": {},
     "source": [
      "<br>\n",
      "##Parallel processing using pp"
     ]
    },
    {
     "cell_type": "code",
     "collapsed": false,
     "input": [
      "parallel=pp.Server()\n",
      "jobs=[parallel.submit(fslstats,(img,),(),(\"os\",)) for img in imgList]\n",
      "for job in jobs:\n",
      "    job()"
     ],
     "language": "python",
     "metadata": {},
     "outputs": [],
     "prompt_number": "*"
    },
    {
     "cell_type": "code",
     "collapsed": false,
     "input": [],
     "language": "python",
     "metadata": {},
     "outputs": [],
     "prompt_number": 14
    }
   ],
   "metadata": {}
  }
 ]
}